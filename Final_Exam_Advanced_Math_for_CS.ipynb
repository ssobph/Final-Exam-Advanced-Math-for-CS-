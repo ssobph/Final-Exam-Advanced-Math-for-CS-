{
 "cells": [
  {
   "cell_type": "code",
   "execution_count": 2,
   "metadata": {
    "colab": {
     "base_uri": "https://localhost:8080/"
    },
    "id": "DbKyXubjIpvb",
    "outputId": "05c15bac-f04a-478f-b8ea-71328109be40"
   },
   "outputs": [
    {
     "name": "stdout",
     "output_type": "stream",
     "text": [
      "Generated 3x4 Matrix:\n",
      "[[ 1  2  7  9]\n",
      " [19  6  9 12]\n",
      " [18  5 10 19]]\n",
      "\n",
      "Coefficient Matrix (A):\n",
      "[[ 1  2  7]\n",
      " [19  6  9]\n",
      " [18  5 10]]\n",
      "\n",
      "Right-hand Side Vector (b):\n",
      "[ 9 12 19]\n"
     ]
    }
   ],
   "source": [
    "import numpy as np\n",
    "\n",
    "# Step 1: Generate a 3x4 random matrix\n",
    "matrix_3x4 = np.random.randint(1, 21, size=(3, 4))  # Random integers from 1 to 20\n",
    "\n",
    "# Split the matrix into A and b\n",
    "A = matrix_3x4[:, :3]  # Coefficient matrix (first 3 columns)\n",
    "b = matrix_3x4[:, 3]   # Right-hand side vector (last column)\n",
    "\n",
    "# Display the matrices\n",
    "print(\"Generated 3x4 Matrix:\")\n",
    "print(matrix_3x4)\n",
    "\n",
    "print(\"\\nCoefficient Matrix (A):\")\n",
    "print(A)\n",
    "\n",
    "print(\"\\nRight-hand Side Vector (b):\")\n",
    "print(b)\n"
   ]
  },
  {
   "cell_type": "code",
   "execution_count": 3,
   "metadata": {
    "colab": {
     "base_uri": "https://localhost:8080/"
    },
    "id": "hayFeikMJ2kE",
    "outputId": "d32aae67-2abd-4a5b-d000-a46489a22699"
   },
   "outputs": [
    {
     "name": "stdout",
     "output_type": "stream",
     "text": [
      "\n",
      "Solution using Matrix Inverse Method:\n",
      "[ 1.06818182 -5.39393939  2.67424242]\n",
      "\n",
      "Solution using Gaussian Elimination (NumPy):\n",
      "[ 1.06818182 -5.39393939  2.67424242]\n",
      "\n",
      "Verification (Ax = b):\n",
      "[ 9. 12. 19.]\n"
     ]
    }
   ],
   "source": [
    "# Solve using Matrix Inverse Method\n",
    "try:\n",
    "    A_inv = np.linalg.inv(A)  # Compute A^-1\n",
    "    x_manual = np.dot(A_inv, b)  # x = A^-1 * b\n",
    "    print(\"\\nSolution using Matrix Inverse Method:\")\n",
    "    print(x_manual)\n",
    "except np.linalg.LinAlgError:\n",
    "    print(\"\\nMatrix A is singular and cannot be inverted.\")\n",
    "\n",
    "# Solve using Gaussian Elimination\n",
    "x_gaussian = np.linalg.solve(A, b)  # Direct Gaussian elimination\n",
    "print(\"\\nSolution using Gaussian Elimination (NumPy):\")\n",
    "print(x_gaussian)\n",
    "\n",
    "# Verify the solution\n",
    "b_check = np.dot(A, x_gaussian)  # Recompute b using A and the computed x\n",
    "print(\"\\nVerification (Ax = b):\")\n",
    "print(b_check)\n"
   ]
  }
 ],
 "metadata": {
  "colab": {
   "provenance": []
  },
  "kernelspec": {
   "display_name": "Python 3",
   "name": "python3"
  },
  "language_info": {
   "name": "python"
  }
 },
 "nbformat": 4,
 "nbformat_minor": 0
}
